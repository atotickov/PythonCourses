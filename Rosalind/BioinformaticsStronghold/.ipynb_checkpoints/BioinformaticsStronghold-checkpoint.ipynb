{
 "cells": [
  {
   "cell_type": "code",
   "execution_count": 13,
   "id": "028df182",
   "metadata": {},
   "outputs": [
    {
     "name": "stdout",
     "output_type": "stream",
     "text": [
      "AGCTTTTCATTCTGACTGCAACGGGCAATATGTCTCTGTGTGGATTAAAAAAAGAGTGTCTGATAGCAGC\n",
      "(20, 17, 12, 21)\n"
     ]
    }
   ],
   "source": [
    "'''\n",
    "Counting DNA Nucleotides.\n",
    "\n",
    "File: rosalind_dna.txt\n",
    "\n",
    "A string is simply an ordered collection of symbols selected from some alphabet and formed into a word; the \n",
    "length of a string is the number of symbols that it contains.\n",
    "\n",
    "An example of a length 21 DNA string (whose alphabet contains the symbols 'A', 'C', 'G', and 'T') is \n",
    "\"ATGCTTCAGAAAGGTCTTACG.\"\n",
    "\n",
    "Given: A DNA string s of length at most 1000 nt.\n",
    "\n",
    "Return: Four integers (separated by spaces) counting the respective number of times that the symbols \n",
    "'A', 'C', 'G', and 'T' occur in s.\n",
    "\n",
    "Sample Dataset:\n",
    "\n",
    "AGCTTTTCATTCTGACTGCAACGGGCAATATGTCTCTGTGTGGATTAAAAAAAGAGTGTCTGATAGCAGC\n",
    "\n",
    "Sample Output:\n",
    "\n",
    "20 12 17 21\n",
    "'''\n",
    "\n",
    "def fq(s):\n",
    "      return s.count(\"A\"), s.count(\"G\"), s.count(\"C\"), s.count(\"T\")\n",
    "\n",
    "print(fq(input()))"
   ]
  },
  {
   "cell_type": "code",
   "execution_count": 7,
   "id": "86d48132",
   "metadata": {},
   "outputs": [
    {
     "name": "stdout",
     "output_type": "stream",
     "text": [
      "AGCTTTTCATTCTGACTGCAACGGGCAATATGTCTCTGTGTGGATTAAAAAAAGAGTGTCTGATAGCAGC\n",
      "20 12 17 21\n"
     ]
    }
   ],
   "source": [
    "'''\n",
    "Counting DNA Nucleotides.\n",
    "\n",
    "File: rosalind_dna.txt\n",
    "\n",
    "A string is simply an ordered collection of symbols selected from some alphabet and formed into a word; the \n",
    "length of a string is the number of symbols that it contains.\n",
    "\n",
    "An example of a length 21 DNA string (whose alphabet contains the symbols 'A', 'C', 'G', and 'T') is \n",
    "\"ATGCTTCAGAAAGGTCTTACG.\"\n",
    "\n",
    "Given: A DNA string s of length at most 1000 nt.\n",
    "\n",
    "Return: Four integers (separated by spaces) counting the respective number of times that the symbols \n",
    "'A', 'C', 'G', and 'T' occur in s.\n",
    "\n",
    "Sample Dataset:\n",
    "\n",
    "AGCTTTTCATTCTGACTGCAACGGGCAATATGTCTCTGTGTGGATTAAAAAAAGAGTGTCTGATAGCAGC\n",
    "\n",
    "Sample Output:\n",
    "\n",
    "20 12 17 21\n",
    "'''\n",
    "\n",
    "countA = 0\n",
    "countT = 0\n",
    "countG = 0\n",
    "countC = 0\n",
    "\n",
    "for i in input():\n",
    "    if i == 'A':\n",
    "        countA += 1\n",
    "    elif i == 'T':\n",
    "        countT += 1\n",
    "    elif i == 'G':\n",
    "        countG += 1\n",
    "    elif i == 'C':\n",
    "        countC += 1\n",
    "\n",
    "print(countA, countC, countG, countT)        "
   ]
  },
  {
   "cell_type": "code",
   "execution_count": 12,
   "id": "99a28912",
   "metadata": {},
   "outputs": [
    {
     "name": "stdout",
     "output_type": "stream",
     "text": [
      "GATGGAACTTGACTACGTAAATT\n",
      "GAUGGAACUUGACUACGUAAAUU\n"
     ]
    }
   ],
   "source": [
    "'''\n",
    "Transcribing DNA into RNA.\n",
    "\n",
    "File: rosalind_rna.txt\n",
    "\n",
    "An RNA string is a string formed from the alphabet containing 'A', 'C', 'G', and 'U'.\n",
    "\n",
    "Given a DNA string t corresponding to a coding strand, its transcribed RNA string u is formed by replacing \n",
    "all occurrences of 'T' in t with 'U' in u.\n",
    "\n",
    "Given: A DNA string t having length at most 1000 nt.\n",
    "\n",
    "Return: The transcribed RNA string of t.\n",
    "\n",
    "Sample Dataset:\n",
    "\n",
    "GATGGAACTTGACTACGTAAATT\n",
    "\n",
    "Sample Output:\n",
    "\n",
    "GAUGGAACUUGACUACGUAAAUU\n",
    "'''\n",
    "\n",
    "def trls(s):\n",
    "      return s.replace('T', 'U')\n",
    "\n",
    "print(trls(input()))"
   ]
  },
  {
   "cell_type": "code",
   "execution_count": 8,
   "id": "c8bd5cd4",
   "metadata": {},
   "outputs": [
    {
     "name": "stdout",
     "output_type": "stream",
     "text": [
      "AAAACCCGGT\n",
      "ACCGGGTTTT\n"
     ]
    }
   ],
   "source": [
    "'''\n",
    "Complementing a Strand of DNA.\n",
    "\n",
    "File: rosalind_revc.txt\n",
    "\n",
    "In DNA strings, symbols 'A' and 'T' are complements of each other, as are 'C' and 'G'.\n",
    "\n",
    "The reverse complement of a DNA string s is the string sc formed by reversing the symbols of s, then taking \n",
    "the complement of each symbol (e.g., the reverse complement of \"GTCA\" is \"TGAC\").\n",
    "\n",
    "Given: A DNA string s of length at most 1000 bp.\n",
    "\n",
    "Return: The reverse complement sc of s.\n",
    "\n",
    "Sample Dataset:\n",
    "\n",
    "AAAACCCGGT\n",
    "\n",
    "Sample Output:\n",
    "\n",
    "ACCGGGTTTT\n",
    "'''\n",
    "\n",
    "#return s.replace('T', 'U')\n",
    "\n",
    "def revcom(s):\n",
    "    s = s[::-1].upper()\n",
    "    result = []\n",
    "    \n",
    "    for i in s:\n",
    "        if i == 'A':\n",
    "            result.append('T')\n",
    "        elif i == 'T':\n",
    "            result.append('A')\n",
    "        elif i == 'G':\n",
    "            result.append('C')\n",
    "        elif i == 'C':\n",
    "            result.append('G')\n",
    "    \n",
    "    return result\n",
    "    \n",
    "print(*revcom(input()), sep='')"
   ]
  },
  {
   "cell_type": "code",
   "execution_count": 7,
   "id": "be4c7647",
   "metadata": {},
   "outputs": [
    {
     "name": "stdout",
     "output_type": "stream",
     "text": [
      "AAAACCCGGT\n",
      "ACCGGGTTTT\n"
     ]
    }
   ],
   "source": [
    "'''\n",
    "Complementing a Strand of DNA.\n",
    "\n",
    "File: rosalind_revc.txt\n",
    "\n",
    "In DNA strings, symbols 'A' and 'T' are complements of each other, as are 'C' and 'G'.\n",
    "\n",
    "The reverse complement of a DNA string s is the string sc formed by reversing the symbols of s, then taking \n",
    "the complement of each symbol (e.g., the reverse complement of \"GTCA\" is \"TGAC\").\n",
    "\n",
    "Given: A DNA string s of length at most 1000 bp.\n",
    "\n",
    "Return: The reverse complement sc of s.\n",
    "\n",
    "Sample Dataset:\n",
    "\n",
    "AAAACCCGGT\n",
    "\n",
    "Sample Output:\n",
    "\n",
    "ACCGGGTTTT\n",
    "'''\n",
    "\n",
    "def revcom(s):\n",
    "    complement = {'A':'T', 'T':'A', 'C':'G', 'G':'C'}\n",
    "    result = [] \n",
    "    \n",
    "    for i in reversed(s): \n",
    "        result.append(complement[i])\n",
    "    \n",
    "    return result\n",
    "    \n",
    "print(*revcom(input().upper()), sep='')"
   ]
  },
  {
   "cell_type": "code",
   "execution_count": 11,
   "id": "76578a5a",
   "metadata": {},
   "outputs": [
    {
     "name": "stdout",
     "output_type": "stream",
     "text": [
      "AAAACCCGGT\n",
      "ACCGGGTTTT\n"
     ]
    }
   ],
   "source": [
    "'''\n",
    "Complementing a Strand of DNA.\n",
    "\n",
    "File: rosalind_revc.txt\n",
    "\n",
    "In DNA strings, symbols 'A' and 'T' are complements of each other, as are 'C' and 'G'.\n",
    "\n",
    "The reverse complement of a DNA string s is the string sc formed by reversing the symbols of s, then taking \n",
    "the complement of each symbol (e.g., the reverse complement of \"GTCA\" is \"TGAC\").\n",
    "\n",
    "Given: A DNA string s of length at most 1000 bp.\n",
    "\n",
    "Return: The reverse complement sc of s.\n",
    "\n",
    "Sample Dataset:\n",
    "\n",
    "AAAACCCGGT\n",
    "\n",
    "Sample Output:\n",
    "\n",
    "ACCGGGTTTT\n",
    "'''\n",
    "\n",
    "s = input()\n",
    "print(s[::-1].translate(str.maketrans('ACGT', 'TGCA')))"
   ]
  },
  {
   "cell_type": "code",
   "execution_count": 45,
   "id": "28e67d8b",
   "metadata": {},
   "outputs": [
    {
     "name": "stdout",
     "output_type": "stream",
     "text": [
      "5\n",
      "3\n"
     ]
    },
    {
     "data": {
      "text/plain": [
       "19"
      ]
     },
     "execution_count": 45,
     "metadata": {},
     "output_type": "execute_result"
    }
   ],
   "source": [
    "'''\n",
    "Rabbits and Recurrence Relations.\n",
    "\n",
    "File: rosalind_fib.txt\n",
    "\n",
    "A sequence is an ordered collection of objects (usually numbers), which are allowed to repeat. Sequences \n",
    "can be finite or infinite. Two examples are the finite sequence (π,−2–√,0,π) and the infinite sequence of \n",
    "odd numbers (1,3,5,7,9,…). We use the notation an to represent the n-th term of a sequence.\n",
    "\n",
    "A recurrence relation is a way of defining the terms of a sequence with respect to the values of previous \n",
    "terms. In the case of Fibonacci's rabbits from the introduction, any given month will contain the rabbits \n",
    "that were alive the previous month, plus any new offspring. A key observation is that the number of offspring \n",
    "in any month is equal to the number of rabbits that were alive two months prior. As a result, if Fn represents\n",
    "the number of rabbit pairs alive after the n-th month, then we obtain the Fibonacci sequence having \n",
    "terms Fn that are defined by the recurrence relation Fn=Fn−1+Fn−2 (with F1=F2=1 to initiate the sequence). \n",
    "Although the sequence bears Fibonacci's name, it was known to Indian mathematicians over two millennia ago.\n",
    "\n",
    "When finding the n-th term of a sequence defined by a recurrence relation, we can simply use the recurrence \n",
    "relation to generate terms for progressively larger values of n. This problem introduces us to the \n",
    "computational technique of dynamic programming, which successively builds up solutions by using the answers \n",
    "to smaller cases.\n",
    "\n",
    "Given: Positive integers n≤40 and k≤5.\n",
    "\n",
    "Return: The total number of rabbit pairs that will be present after n months, if we begin with 1 pair and \n",
    "in each generation, every pair of reproduction-age rabbits produces a litter of k rabbit pairs (instead of \n",
    "only 1 pair).\n",
    "\n",
    "Sample Dataset:\n",
    "5 3\n",
    "Sample Output:\n",
    "19\n",
    "'''\n",
    "\n",
    "def rabbit_pairs(n, k):\n",
    "    # Список для хранения пар кроликов для каждого месяца. В первых двух месяцах по 1 паре кроликов\n",
    "    rm_pairs = [1, 1]\n",
    "\n",
    "    # Считаем кол-во пар для следующих месяцев (от 2 до n)\n",
    "    for i in range(2, n):\n",
    "        # Считаем новую пару для месяца\n",
    "        new_pairs = rm_pairs[i - 1] + (k * rm_pairs[i - 2])\n",
    "        rm_pairs.append(new_pairs)\n",
    "\n",
    "    return rm_pairs[n - 1]\n",
    "\n",
    "rabbit_pairs(int(input()), int(input()))"
   ]
  },
  {
   "cell_type": "code",
   "execution_count": 47,
   "id": "33cf6758",
   "metadata": {},
   "outputs": [],
   "source": [
    "'''\n",
    "Computing GC Content.\n",
    "\n",
    "The GC-content of a DNA string is given by the percentage of symbols in the string that are 'C' or 'G'. \n",
    "For example, the GC-content of \"AGCTATAG\" is 37.5%. Note that the reverse complement of any DNA string has \n",
    "the same GC-content.\n",
    "\n",
    "DNA strings must be labeled when they are consolidated into a database. A commonly used method of string \n",
    "labeling is called FASTA format. In this format, the string is introduced by a line that begins with '>', \n",
    "followed by some labeling information. Subsequent lines contain the string itself; the first line to begin \n",
    "with '>' indicates the label of the next string.\n",
    "\n",
    "In Rosalind's implementation, a string in FASTA format will be labeled by the ID \"Rosalind_xxxx\", \n",
    "where \"xxxx\" denotes a four-digit code between 0000 and 9999.\n",
    "\n",
    "Given: At most 10 DNA strings in FASTA format (of length at most 1 kbp each).\n",
    "\n",
    "Return: The ID of the string having the highest GC-content, followed by the GC-content of that string. \n",
    "Rosalind allows for a default error of 0.001 in all decimal answers unless otherwise stated; please see \n",
    "the note on absolute error below.\n",
    "\n",
    "Sample Dataset:\n",
    "\n",
    ">Rosalind_6404\n",
    "CCTGCGGAAGATCGGCACTAGAATAGCCAGAACCGTTTCTCTGAGGCTTCCGGCCTTCCC\n",
    "TCCCACTAATAATTCTGAGG\n",
    ">Rosalind_5959\n",
    "CCATCGGTAGCGCATCCTTAGTCCAATTAAGTCCCTATCCAGGCGCTCCGCCGAAGGTCT\n",
    "ATATCCATTTGTCAGCAGACACGC\n",
    ">Rosalind_0808\n",
    "CCACCCTCGTGGTATGGCTAGGCATTCAGGAACCGGAGAACGCTTCAGACCAGCCCGGAC\n",
    "TGGGAACCTGCGGGCAGTAGGTGGAAT\n",
    "\n",
    "Sample Output:\n",
    "\n",
    "Rosalind_0808\n",
    "60.919540\n",
    "'''\n",
    "\n",
    "import pandas as pd\n",
    "\n",
    "def gc_content(self, min_contig) -> float:\n",
    "    print(\"gc_content started\")\n",
    "    count = 0\n",
    "    index_list = self.df[self.df['lengths'] >= min_contig].index\n",
    "    for i in index_list:\n",
    "        count += self.sequences_dict[i].upper().count('G') + self.sequences_dict[i].upper().count('C')\n",
    "    result = round(count / self.total_length(min_contig) * 100, 2)\n",
    "    return result\n",
    "\n",
    "\n",
    "\n",
    "\n",
    "\n"
   ]
  },
  {
   "cell_type": "code",
   "execution_count": null,
   "id": "f4af769f",
   "metadata": {},
   "outputs": [],
   "source": []
  }
 ],
 "metadata": {
  "kernelspec": {
   "display_name": "Python 3 (ipykernel)",
   "language": "python",
   "name": "python3"
  },
  "language_info": {
   "codemirror_mode": {
    "name": "ipython",
    "version": 3
   },
   "file_extension": ".py",
   "mimetype": "text/x-python",
   "name": "python",
   "nbconvert_exporter": "python",
   "pygments_lexer": "ipython3",
   "version": "3.10.4"
  }
 },
 "nbformat": 4,
 "nbformat_minor": 5
}
